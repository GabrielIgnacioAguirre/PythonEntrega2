{
 "cells": [
  {
   "cell_type": "markdown",
   "metadata": {},
   "source": [
    "# Practica 2\n",
    "### Tenemos los siguientes datos a disposicion."
   ]
  },
  {
   "cell_type": "code",
   "execution_count": 1,
   "metadata": {},
   "outputs": [],
   "source": [
    "names = \"\"\" Agustin, Yanina, Andrés, Ariadna, Bautista, CAROLINA,\n",
    "CESAR, David, Diego, Dolores, DYLAN, ELIANA, Emanuel, Fabián, Noelia,\n",
    "Francsica', FEDERICO, Fernanda, GONZALO, Nancy \"\"\"\n",
    "goals = [0, 10, 4, 0, 5, 14, 0, 0, 7, 2, 1, 1, 1, 5, 6, 1, 1, 2, 0,\n",
    "11]\n",
    "goals_avoided = [0, 2, 0, 0, 5, 2, 0, 0, 1, 2, 0, 5, 5, 0, 1, 0, 2,\n",
    "3, 0, 0]\n",
    "assists = [0, 5, 1, 0, 5, 2, 0, 0, 1, 2, 1, 5, 5, 0, 1, 0, 2, 3, 1,\n",
    "0]"
   ]
  },
  {
   "cell_type": "markdown",
   "metadata": {},
   "source": [
    "### Ahora tranformo la variable \"*names*\" en una lista para poder manipular el contenido facilmente."
   ]
  },
  {
   "cell_type": "code",
   "execution_count": 2,
   "metadata": {},
   "outputs": [
    {
     "name": "stdout",
     "output_type": "stream",
     "text": [
      "['Agustin', 'Yanina', 'Andrés', 'Ariadna', 'Bautista', 'CAROLINA', 'CESAR', 'David', 'Diego', 'Dolores', 'DYLAN', 'ELIANA', 'Emanuel', 'Fabián', 'Noelia', \"Francsica'\", 'FEDERICO', 'Fernanda', 'GONZALO', 'Nancy']\n"
     ]
    }
   ],
   "source": [
    "nombres = names.replace(\",\",\"\").split()\n",
    "print(nombres)"
   ]
  },
  {
   "cell_type": "markdown",
   "metadata": {},
   "source": [
    "### Agrego la estructura de datos en la cual cada jugador/a almacena sus estadisticas en un diccionario, Estos diccionarios son contenidos por una lista. "
   ]
  },
  {
   "cell_type": "code",
   "execution_count": 3,
   "metadata": {},
   "outputs": [
    {
     "name": "stdout",
     "output_type": "stream",
     "text": [
      "[{'nombre': 'Agustin', 'goles': 0, 'goles evitados': 0, 'asistencias': 0}, {'nombre': 'Yanina', 'goles': 10, 'goles evitados': 2, 'asistencias': 5}, {'nombre': 'Andrés', 'goles': 4, 'goles evitados': 0, 'asistencias': 1}, {'nombre': 'Ariadna', 'goles': 0, 'goles evitados': 0, 'asistencias': 0}, {'nombre': 'Bautista', 'goles': 5, 'goles evitados': 5, 'asistencias': 5}, {'nombre': 'CAROLINA', 'goles': 14, 'goles evitados': 2, 'asistencias': 2}, {'nombre': 'CESAR', 'goles': 0, 'goles evitados': 0, 'asistencias': 0}, {'nombre': 'David', 'goles': 0, 'goles evitados': 0, 'asistencias': 0}, {'nombre': 'Diego', 'goles': 7, 'goles evitados': 1, 'asistencias': 1}, {'nombre': 'Dolores', 'goles': 2, 'goles evitados': 2, 'asistencias': 2}, {'nombre': 'DYLAN', 'goles': 1, 'goles evitados': 0, 'asistencias': 1}, {'nombre': 'ELIANA', 'goles': 1, 'goles evitados': 5, 'asistencias': 5}, {'nombre': 'Emanuel', 'goles': 1, 'goles evitados': 5, 'asistencias': 5}, {'nombre': 'Fabián', 'goles': 5, 'goles evitados': 0, 'asistencias': 0}, {'nombre': 'Noelia', 'goles': 6, 'goles evitados': 1, 'asistencias': 1}, {'nombre': \"Francsica'\", 'goles': 1, 'goles evitados': 0, 'asistencias': 0}, {'nombre': 'FEDERICO', 'goles': 1, 'goles evitados': 2, 'asistencias': 2}, {'nombre': 'Fernanda', 'goles': 2, 'goles evitados': 3, 'asistencias': 3}, {'nombre': 'GONZALO', 'goles': 0, 'goles evitados': 0, 'asistencias': 1}, {'nombre': 'Nancy', 'goles': 11, 'goles evitados': 0, 'asistencias': 0}]\n"
     ]
    }
   ],
   "source": [
    "import programa\n",
    "jugadores = programa.GenerarJugadores(nombres,goals,goals_avoided,assists)\n",
    "print(jugadores)"
   ]
  },
  {
   "cell_type": "markdown",
   "metadata": {},
   "source": [
    "### A continuacion invoco a la funcion \"Goleador\" que recibe como parametros la lista de nombre y de goles y retorna el nombre goleador del torneo y la cantidad de goles."
   ]
  },
  {
   "cell_type": "code",
   "execution_count": 4,
   "metadata": {},
   "outputs": [
    {
     "name": "stdout",
     "output_type": "stream",
     "text": [
      "El goleador del torneo fue CAROLINA con la cantidad de 14 goles\n"
     ]
    }
   ],
   "source": [
    "max_goleador = programa.Goleador(nombres,goals)\n",
    "print(f\"El goleador del torneo fue {max_goleador[0]} con la cantidad de {max_goleador[1]} goles\")"
   ]
  },
  {
   "cell_type": "markdown",
   "metadata": {},
   "source": [
    "### Ahora se llama a la funcion \"mas_influyente\" que recibe como parametro la lista de diccionarios, que contiene la informacion de cada jugador, y retorna el nombre del jugador mas influyente segun los parametros que pide el enunciado."
   ]
  },
  {
   "cell_type": "code",
   "execution_count": 5,
   "metadata": {},
   "outputs": [
    {
     "name": "stdout",
     "output_type": "stream",
     "text": [
      "CAROLINA\n"
     ]
    }
   ],
   "source": [
    "max_influyente = programa.mas_influyente(jugadores)\n",
    "print(max_influyente)"
   ]
  },
  {
   "cell_type": "markdown",
   "metadata": {},
   "source": [
    "### La variable goles_temporada llama a la funcion \"promedios_goles_equipo\" que retorna el promedio goleador de la temporada."
   ]
  },
  {
   "cell_type": "code",
   "execution_count": 6,
   "metadata": {},
   "outputs": [
    {
     "name": "stdout",
     "output_type": "stream",
     "text": [
      "2.84\n"
     ]
    }
   ],
   "source": [
    "goles_temporada = programa.promedio_goles_equipo(goals )\n",
    "print(goles_temporada)"
   ]
  },
  {
   "cell_type": "markdown",
   "metadata": {},
   "source": [
    "### Por ultimo se llama la funcion \"promedio_goles_goleador\" que recibe como parametro la lista de goles y la lista de nombres, y retorna una lista que contiene el nombre del jugador con mayor promedio goleador por temporada junto con el promedio."
   ]
  },
  {
   "cell_type": "code",
   "execution_count": 7,
   "metadata": {},
   "outputs": [
    {
     "name": "stdout",
     "output_type": "stream",
     "text": [
      "El jugador con mayor promedio goleador fue CAROLINA con un promedio de 0.56 \n"
     ]
    }
   ],
   "source": [
    "goleador_temporada = programa.promedio_goles_goleador(nombres,goals)\n",
    "print(f\"El jugador con mayor promedio goleador fue {goleador_temporada[0]} con un promedio de {goleador_temporada[1]} \")"
   ]
  }
 ],
 "metadata": {
  "kernelspec": {
   "display_name": "venv",
   "language": "python",
   "name": "python3"
  },
  "language_info": {
   "codemirror_mode": {
    "name": "ipython",
    "version": 3
   },
   "file_extension": ".py",
   "mimetype": "text/x-python",
   "name": "python",
   "nbconvert_exporter": "python",
   "pygments_lexer": "ipython3",
   "version": "3.11.9"
  }
 },
 "nbformat": 4,
 "nbformat_minor": 2
}
